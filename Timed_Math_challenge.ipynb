{
 "cells": [
  {
   "cell_type": "code",
   "execution_count": null,
   "id": "17066ea9-c656-4306-a6cd-684f397ad5d0",
   "metadata": {},
   "outputs": [
    {
     "name": "stdout",
     "output_type": "stream",
     "text": [
      "Welcome to maths challenge. Its a time based game. Please enter answers upto 2 decimal digits for division, rest whole digit.\n"
     ]
    }
   ],
   "source": [
    "\n",
    "print(\"Welcome to maths challenge. Its a time based game. Please enter answers upto 2 decimal digits for division, rest whole digit.\")\n",
    "import random\n",
    "import time\n",
    "OPERATORS=[\"+\",\"-\",\"*\",\"/\"]\n",
    "MIN_OPERAND=3\n",
    "MAX_OPERAND=12\n",
    "TOTAL_PROBLEMS=10\n",
    "def generate_problem():\n",
    "    left=random.randint(MIN_OPERAND,MAX_OPERAND)\n",
    "    right=random.randint(MIN_OPERAND,MAX_OPERAND)\n",
    "    operator=random.choice(OPERATORS)\n",
    "    expr=str(left)+ \" \"+ operator+\" \"+ str(right)\n",
    "    answer=round(eval(expr),2)\n",
    "    return expr, answer\n",
    "\n",
    "wrong=0\n",
    "input(\"press enter to start\")\n",
    "print(\"---------------------------\")\n",
    "start_time= time.time()\n",
    "\n",
    "for i in range(TOTAL_PROBLEMS):\n",
    "    expr,answer=generate_problem()\n",
    "    while True:\n",
    "        guess=input(\"problem # \" + str(i+1) + \":  \" + expr+ \"=\")\n",
    "        if guess==str(answer):\n",
    "            break\n",
    "            wrong+=1\n",
    "\n",
    "end_time=time.time()\n",
    "total_time= round(end_time-start_time,2)\n",
    "your_time= round(total_time/60,2)\n",
    "\n",
    "print(\"------------------------\")\n",
    "print(\"Nice work! You finished in\", your_time, \"minutes\")\n"
   ]
  }
 ],
 "metadata": {
  "kernelspec": {
   "display_name": "Python 3 (ipykernel)",
   "language": "python",
   "name": "python3"
  },
  "language_info": {
   "codemirror_mode": {
    "name": "ipython",
    "version": 3
   },
   "file_extension": ".py",
   "mimetype": "text/x-python",
   "name": "python",
   "nbconvert_exporter": "python",
   "pygments_lexer": "ipython3",
   "version": "3.12.4"
  }
 },
 "nbformat": 4,
 "nbformat_minor": 5
}
